{
 "cells": [
  {
   "cell_type": "code",
   "execution_count": null,
   "metadata": {},
   "outputs": [],
   "source": [
    "import sys\n",
    "sys.path.append(\"..\")\n",
    "from samplingFunctions import *\n",
    "import scipy.stats as stats\n",
    "import matplotlib.pyplot as plt\n",
    "import itertools"
   ]
  },
  {
   "cell_type": "markdown",
   "metadata": {},
   "source": [
    "# Hypothesis 1\n",
    "$H_0: \\eta=4$\n",
    "\n",
    "$H_a: \\eta>4$"
   ]
  },
  {
   "cell_type": "markdown",
   "metadata": {},
   "source": [
    "### Wilcoxon Signed Rank Test\n",
    "Assumes $\\epsilon_i \\sim^{iid} \\mathcal{N}(0,1)$"
   ]
  },
  {
   "cell_type": "code",
   "execution_count": null,
   "metadata": {},
   "outputs": [],
   "source": [
    "def wilcoxonExperiment(sampleFn, binned=False):\n",
    "    sampleSizes = [30, 100, 500]\n",
    "    trueMedians = range(1,8)\n",
    "    numRepititions = 1000\n",
    "    etaNull = 4\n",
    "    totalNumTests = len(sampleSizes) * len(trueMedians) * numRepititions\n",
    "    results = np.zeros((totalNumTests, 3))\n",
    "    paramsets = itertools.product(sampleSizes, trueMedians, range(numRepititions))\n",
    "    for setNum, pSet in enumerate(paramsets):\n",
    "        if not setNum % 1000:\n",
    "            print(setNum)\n",
    "        n,eta, repetitionNum = pSet\n",
    "        sample = sampleFn(numSamples=n, offset = eta, binned=binned)\n",
    "        testinput = sample - etaNull\n",
    "        assert not np.all(testinput==0)\n",
    "        stat, pval = stats.wilcoxon(testinput, zero_method=\"pratt\",alternative=\"greater\")\n",
    "        results[setNum] = [n, eta, pval]\n",
    "    return results"
   ]
  },
  {
   "cell_type": "code",
   "execution_count": null,
   "metadata": {},
   "outputs": [],
   "source": [
    "wResultsControl = wilcoxonExperiment(sampleIndependentNormal)"
   ]
  },
  {
   "cell_type": "code",
   "execution_count": null,
   "metadata": {},
   "outputs": [],
   "source": [
    "wResultsViolation1 = wilcoxonExperiment(sampleIndependentContinuousAsymmetric)"
   ]
  },
  {
   "cell_type": "code",
   "execution_count": null,
   "metadata": {},
   "outputs": [],
   "source": [
    "wResultsViolation2 = wilcoxonExperiment(generateDependentSamplesLatentNormal)"
   ]
  },
  {
   "cell_type": "code",
   "execution_count": null,
   "metadata": {},
   "outputs": [],
   "source": [
    "wResultsViolation3 = wilcoxonExperiment(sampleIndependentNormal, binned=True)"
   ]
  },
  {
   "cell_type": "markdown",
   "metadata": {},
   "source": [
    "## Sign Test\n",
    "Assumes $\\epsilon \\sim^{ind}$ continuous\n",
    "\n",
    "median=0"
   ]
  },
  {
   "cell_type": "code",
   "execution_count": null,
   "metadata": {},
   "outputs": [],
   "source": [
    "def signTest(sample, etaNull):\n",
    "    alpha = 0.05\n",
    "    b = sum(sample > etaNull)\n",
    "    nStar = sum(sample != etaNull)\n",
    "    p = stats.binom.cdf(nStar - b, nStar, 0.5)\n",
    "    return b,p"
   ]
  },
  {
   "cell_type": "code",
   "execution_count": null,
   "metadata": {},
   "outputs": [],
   "source": [
    "def signExperiment(sampleFn, binned=False):\n",
    "    sampleSizes = [30, 100, 500]\n",
    "    trueMedians = range(1,8)\n",
    "    numRepititions = 1000\n",
    "    etaNull = 4\n",
    "    totalNumTests = len(sampleSizes) * len(trueMedians) * numRepititions\n",
    "    results = np.zeros((totalNumTests, 3))\n",
    "    paramsets = itertools.product(sampleSizes, trueMedians, range(numRepititions))\n",
    "    for setNum, pSet in enumerate(paramsets):\n",
    "        if not setNum % 1000:\n",
    "            print(setNum)\n",
    "        n,eta, repetitionNum = pSet\n",
    "        sample = sampleFn(numSamples=n, offset = eta, binned=binned)\n",
    "        stat, pval = signTest(sample, etaNull)\n",
    "        results[setNum] = [n, eta, pval]\n",
    "    return results"
   ]
  },
  {
   "cell_type": "code",
   "execution_count": null,
   "metadata": {},
   "outputs": [],
   "source": [
    "stats.binom.cdf(8,10,.5)"
   ]
  },
  {
   "cell_type": "code",
   "execution_count": null,
   "metadata": {},
   "outputs": [],
   "source": [
    "stats.binom.cdf(1,10,.5)"
   ]
  },
  {
   "cell_type": "markdown",
   "metadata": {},
   "source": [
    "Evaluate performance of test when following model assumptions"
   ]
  },
  {
   "cell_type": "code",
   "execution_count": null,
   "metadata": {},
   "outputs": [],
   "source": [
    "wilcoxonComparison(sampleIndependentNormal)"
   ]
  },
  {
   "cell_type": "code",
   "execution_count": null,
   "metadata": {},
   "outputs": [],
   "source": [
    "signTestComparison(sampleIndependentNormal)"
   ]
  },
  {
   "cell_type": "markdown",
   "metadata": {},
   "source": [
    "Evaluate performance when violating normality"
   ]
  },
  {
   "cell_type": "code",
   "execution_count": null,
   "metadata": {},
   "outputs": [],
   "source": [
    "wilcoxonComparison(sampleIndpendentContinuousSymmetric)"
   ]
  },
  {
   "cell_type": "code",
   "execution_count": null,
   "metadata": {},
   "outputs": [],
   "source": [
    "signTestComparison(sampleIndpendentContinuousSymmetric)"
   ]
  },
  {
   "cell_type": "markdown",
   "metadata": {},
   "source": [
    "Evaluate performance when violating symmentry"
   ]
  },
  {
   "cell_type": "code",
   "execution_count": null,
   "metadata": {},
   "outputs": [],
   "source": [
    "wilcoxonComparison(sampleIndependentContinuousAsymmetric)"
   ]
  },
  {
   "cell_type": "code",
   "execution_count": null,
   "metadata": {},
   "outputs": [],
   "source": [
    "signTestComparison(sampleIndependentContinuousAsymmetric)"
   ]
  },
  {
   "cell_type": "markdown",
   "metadata": {},
   "source": [
    "evaluate performance when independence is violated"
   ]
  },
  {
   "cell_type": "markdown",
   "metadata": {},
   "source": [
    "How do we visualize these tests? There is a lot of variability in the samples drawn from dependent data, so the setup above isn't as applicable."
   ]
  },
  {
   "cell_type": "code",
   "execution_count": null,
   "metadata": {},
   "outputs": [],
   "source": []
  }
 ],
 "metadata": {
  "language_info": {
   "name": "python",
   "pygments_lexer": "ipython3"
  }
 },
 "nbformat": 4,
 "nbformat_minor": 2
}
