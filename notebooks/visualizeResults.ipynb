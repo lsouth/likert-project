{
 "cells": [
  {
   "cell_type": "code",
   "execution_count": null,
   "metadata": {},
   "outputs": [],
   "source": [
    "import numpy as np\n",
    "import pandas as pd\n",
    "import matplotlib.pyplot as plt\n",
    "import seaborn as sns"
   ]
  },
  {
   "cell_type": "code",
   "execution_count": null,
   "metadata": {},
   "outputs": [],
   "source": [
    "def makePlot(data, title):\n",
    "    fig=plt.figure()\n",
    "    for sSize in [30,100,500]:\n",
    "        x = []\n",
    "        y = []\n",
    "        sub = data[data[\"size\"] == sSize]\n",
    "        yerr = np.zeros((2,7))\n",
    "        for mVal in sub[\"median\"].unique():\n",
    "            x.append(mVal)\n",
    "            y.append(sub[sub[\"median\"] == mVal][\"p-Val\"].median())\n",
    "            yerr[:,int(mVal - 1)] = np.abs(sub[sub[\"median\"] == mVal][\"p-Val\"].median() - sub[sub[\"median\"] == mVal][\"p-Val\"].quantile([0.025, 0.975]))\n",
    "        plt.errorbar(x=x, y=y, yerr=yerr, label=str(sSize))\n",
    "    plt.legend()\n",
    "    plt.hlines(0.05, 1, 7, color=\"red\", alpha=0.25)\n",
    "    plt.title(title)\n",
    "    plt.xlabel(\"True Median\")\n",
    "    plt.ylabel(\"p\")"
   ]
  },
  {
   "cell_type": "markdown",
   "metadata": {},
   "source": [
    "# Wilcoxon Signed Rank Test"
   ]
  },
  {
   "cell_type": "code",
   "execution_count": null,
   "metadata": {},
   "outputs": [],
   "source": [
    "wControl = pd.read_csv(\"../results/wResultsControl.csv\")"
   ]
  },
  {
   "cell_type": "code",
   "execution_count": null,
   "metadata": {},
   "outputs": [],
   "source": [
    "wV1 = pd.read_csv(\"../results/wResultsViolation1.csv\")"
   ]
  },
  {
   "cell_type": "code",
   "execution_count": null,
   "metadata": {},
   "outputs": [],
   "source": [
    "wV2 = pd.read_csv(\"../results/wResultsViolation2.csv\")"
   ]
  },
  {
   "cell_type": "code",
   "execution_count": null,
   "metadata": {},
   "outputs": [],
   "source": [
    "wV3 = pd.read_csv(\"../results/wResultsViolation3.csv\")"
   ]
  },
  {
   "cell_type": "code",
   "execution_count": null,
   "metadata": {},
   "outputs": [],
   "source": [
    "makePlot(wControl, title=\"Wilcoxon Signed Rank Test - Control\")"
   ]
  },
  {
   "cell_type": "code",
   "execution_count": null,
   "metadata": {},
   "outputs": [],
   "source": [
    "makePlot(wV1, title=\"Wilcoxon Signed Rank Test - Asymmetric Distribution\")"
   ]
  },
  {
   "cell_type": "code",
   "execution_count": null,
   "metadata": {},
   "outputs": [],
   "source": [
    "makePlot(wV2, title=\"Wilcoxon Signed Rank Test - Dependent Data\")"
   ]
  },
  {
   "cell_type": "code",
   "execution_count": null,
   "metadata": {},
   "outputs": [],
   "source": [
    "makePlot(wV3, title=\"Wilcoxon Signed Rank Test - Discretized Normal Distribution\")"
   ]
  },
  {
   "cell_type": "markdown",
   "metadata": {},
   "source": [
    "# Sign Test"
   ]
  },
  {
   "cell_type": "code",
   "execution_count": null,
   "metadata": {},
   "outputs": [],
   "source": [
    "sControl = pd.read_csv(\"../results/sResultControl.csv\")\n",
    "sV1= pd.read_csv(\"../results/sResultsViolation1.csv\")\n",
    "sV2= pd.read_csv(\"../results/sResultsViolation2.csv\")\n",
    "sV3= pd.read_csv(\"../results/sResultsViolation3.csv\")"
   ]
  },
  {
   "cell_type": "code",
   "execution_count": null,
   "metadata": {},
   "outputs": [],
   "source": [
    "makePlot(sControl, title=\"Sign Test - Control\")"
   ]
  },
  {
   "cell_type": "code",
   "execution_count": null,
   "metadata": {},
   "outputs": [],
   "source": [
    "makePlot(sV1, title=\"Sign Test - Normal Distribution (median = 1)\")"
   ]
  },
  {
   "cell_type": "code",
   "execution_count": null,
   "metadata": {},
   "outputs": [],
   "source": [
    "makePlot(sV2, title=\"Sign Test - Normal Discretized Data\")"
   ]
  },
  {
   "cell_type": "code",
   "execution_count": null,
   "metadata": {},
   "outputs": [],
   "source": [
    "makePlot(sV3, title=\"Sign Test - Dependent Data\")"
   ]
  },
  {
   "cell_type": "code",
   "execution_count": null,
   "metadata": {},
   "outputs": [],
   "source": []
  }
 ],
 "metadata": {
  "language_info": {
   "name": "python",
   "pygments_lexer": "ipython3"
  }
 },
 "nbformat": 4,
 "nbformat_minor": 2
}
