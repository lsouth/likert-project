{
 "cells": [
  {
   "cell_type": "code",
   "execution_count": null,
   "metadata": {},
   "outputs": [],
   "source": [
    "from scipy.stats import gumbel_r, logistic, norm\n",
    "import numpy as np\n",
    "import matplotlib.pyplot as plt\n",
    "import sys\n",
    "sys.path.append(\"..\")\n",
    "from samplingFunctions import *"
   ]
  },
  {
   "cell_type": "markdown",
   "metadata": {},
   "source": [
    "# Gumbel\n",
    "Asymmetric\n",
    "median=0\n",
    "mean > 0"
   ]
  },
  {
   "cell_type": "code",
   "execution_count": null,
   "metadata": {},
   "outputs": [],
   "source": [
    "x= np.arange(-5,5,0.1)\n",
    "print(\"median: {}\\nmean: {:.4f}\".format(gumbel_r.median(np.log(np.log(2)), 1),gumbel_r.mean(np.log(np.log(2)), 1)))\n",
    "plt.plot(x,gumbel_r.pdf(x,loc=np.log(np.log(2)), scale=1),color=\"green\")"
   ]
  },
  {
   "cell_type": "markdown",
   "metadata": {},
   "source": [
    "# Logistic\n",
    "symmetric\n",
    "mean = median = 0"
   ]
  },
  {
   "cell_type": "code",
   "execution_count": null,
   "metadata": {},
   "outputs": [],
   "source": [
    "print(\"median: {}\\nmean: {}\".format(logistic.median(0,1),\n",
    "                                    logistic.mean(0,1)))\n",
    "plt.plot(x,logistic.pdf(x,loc=0,scale=1))"
   ]
  },
  {
   "cell_type": "code",
   "execution_count": null,
   "metadata": {},
   "outputs": [],
   "source": [
    "xPrime = np.arange(-3,10,0.01)\n",
    "plt.plot(xPrime,norm.pdf(xPrime,loc=4,scale=1))"
   ]
  },
  {
   "cell_type": "markdown",
   "metadata": {},
   "source": [
    "# Sample From Normal"
   ]
  },
  {
   "cell_type": "code",
   "execution_count": null,
   "metadata": {},
   "outputs": [],
   "source": [
    "samples_norm = np.random.normal(loc=4,scale=1.25,size = 100)\n",
    "f,a = plt.subplots()\n",
    "a.scatter(samples_norm, np.zeros(samples_norm.size))\n",
    "ticks = plt.xticks(np.arange(1,8),np.arange(1,8))\n",
    "a.plot(np.arange(1,8,0.01),norm.pdf(np.arange(1,8,0.01),4,1.25))"
   ]
  },
  {
   "cell_type": "markdown",
   "metadata": {},
   "source": [
    "# Dependency with Mean Drawn from Underlying Normal"
   ]
  },
  {
   "cell_type": "code",
   "execution_count": null,
   "metadata": {},
   "outputs": [],
   "source": [
    "# clusterMeans = np.random.normal(loc=4,scale=1,size = 2)\n",
    "# samples = []\n",
    "f,a = plt.subplots()\n",
    "# for c in clusterMeans:\n",
    "#     c_samp = np.random.normal(loc=c,scale=0.25,size=25)\n",
    "#     a.scatter(c_samp,np.zeros(c_samp.size))\n",
    "sample = generateDependentSamplesLatentNormal(30, 6, clusterScale=0.25)\n",
    "a.scatter(sample, np.zeros_like(sample))\n",
    "ticks = plt.xticks(np.arange(1,8),np.arange(1,8))\n",
    "a.plot(np.arange(1,8,0.01),norm.pdf(np.arange(1,8,0.01),4,1.25))"
   ]
  },
  {
   "cell_type": "markdown",
   "metadata": {},
   "source": [
    "# Dependency with Mean Drawn from Underlying Logistic"
   ]
  },
  {
   "cell_type": "code",
   "execution_count": null,
   "metadata": {},
   "outputs": [],
   "source": [
    "clusterMeans = np.random.logistic(loc=4,scale=1,size = 4)\n",
    "samples = []\n",
    "f,a = plt.subplots()\n",
    "for c in clusterMeans:\n",
    "    c_samp = np.random.normal(loc=c,scale=0.25,size=25)\n",
    "    a.scatter(c_samp,np.zeros(c_samp.size))\n",
    "    \n",
    "ticks = plt.xticks(np.arange(1,8),np.arange(1,8))\n",
    "a.plot(np.arange(1,8,0.01),logistic.pdf(np.arange(1,8,0.01),4,1))"
   ]
  },
  {
   "cell_type": "code",
   "execution_count": null,
   "metadata": {},
   "outputs": [],
   "source": []
  }
 ],
 "metadata": {
  "language_info": {
   "name": "python",
   "pygments_lexer": "ipython3"
  }
 },
 "nbformat": 4,
 "nbformat_minor": 2
}
