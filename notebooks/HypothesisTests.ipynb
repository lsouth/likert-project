{
 "cells": [
  {
   "cell_type": "code",
   "execution_count": null,
   "metadata": {},
   "outputs": [],
   "source": [
    "import sys\n",
    "sys.path.append(\"..\")\n",
    "from samplingFunctions import *\n",
    "import scipy.stats as stats\n",
    "import matplotlib.pyplot as plt\n",
    "import itertools\n",
    "import pandas as pd"
   ]
  },
  {
   "cell_type": "markdown",
   "metadata": {},
   "source": [
    "# Hypothesis 1\n",
    "$H_0: \\eta=4$\n",
    "\n",
    "$H_a: \\eta>4$"
   ]
  },
  {
   "cell_type": "markdown",
   "metadata": {},
   "source": [
    "### Wilcoxon Signed Rank Test\n",
    "Assumes $\\epsilon_i \\sim^{iid} \\mathcal{N}(0,1)$"
   ]
  },
  {
   "cell_type": "code",
   "execution_count": null,
   "metadata": {},
   "outputs": [],
   "source": [
    "def wilcoxonExperiment(sampleFn, discrete=False, errorMean=0):\n",
    "    sampleSizes = [30, 100, 500]\n",
    "    trueMedians = np.arange(1,8) + errorMean\n",
    "    numRepititions = 1000\n",
    "    etaNull = 4\n",
    "    totalNumTests = len(sampleSizes) * len(trueMedians) * numRepititions\n",
    "    results = np.zeros((totalNumTests, 3))\n",
    "    paramsets = itertools.product(sampleSizes, trueMedians, range(numRepititions))\n",
    "    for setNum, pSet in enumerate(paramsets):\n",
    "        if not setNum % 1000:\n",
    "            print(setNum)\n",
    "        n,eta, repetitionNum = pSet\n",
    "        sample = sampleFn(numSamples=n, offset = eta, discrete=discrete)\n",
    "        testinput = sample - etaNull\n",
    "        assert not np.all(testinput==0)\n",
    "        stat, pval = stats.wilcoxon(testinput, zero_method=\"pratt\",alternative=\"greater\")\n",
    "        results[setNum] = [n, eta, pval]\n",
    "    return results"
   ]
  },
  {
   "cell_type": "code",
   "execution_count": null,
   "metadata": {},
   "outputs": [],
   "source": [
    "wResultsControl = wilcoxonExperiment(sampleIndependentNormal)"
   ]
  },
  {
   "cell_type": "code",
   "execution_count": null,
   "metadata": {},
   "outputs": [],
   "source": [
    "wResultsViolation1 = wilcoxonExperiment(sampleIndependentNormal, errorMean = 1)"
   ]
  },
  {
   "cell_type": "code",
   "execution_count": null,
   "metadata": {},
   "outputs": [],
   "source": [
    "wResultsViolation2 = wilcoxonExperiment(sampleIndependentContinuousAsymmetric)"
   ]
  },
  {
   "cell_type": "code",
   "execution_count": null,
   "metadata": {},
   "outputs": [],
   "source": [
    "wResultsViolation3 = wilcoxonExperiment(generateDependentSamplesLatentNormal)"
   ]
  },
  {
   "cell_type": "code",
   "execution_count": null,
   "metadata": {},
   "outputs": [],
   "source": [
    "wResultsViolation4 = wilcoxonExperiment(sampleIndependentNormal, discrete=True)"
   ]
  },
  {
   "cell_type": "code",
   "execution_count": null,
   "metadata": {},
   "outputs": [],
   "source": []
  },
  {
   "cell_type": "markdown",
   "metadata": {},
   "source": [
    "## Sign Test\n",
    "Assumes $\\epsilon \\sim^{ind}$ continuous\n",
    "\n",
    "median=0"
   ]
  },
  {
   "cell_type": "code",
   "execution_count": null,
   "metadata": {},
   "outputs": [],
   "source": [
    "def signTest(sample, etaNull):\n",
    "    alpha = 0.05\n",
    "    b = sum(sample > etaNull)\n",
    "    nStar = sum(sample != etaNull)\n",
    "    p = stats.binom.cdf(nStar - b, nStar, 0.5)\n",
    "    return b,p"
   ]
  },
  {
   "cell_type": "code",
   "execution_count": null,
   "metadata": {},
   "outputs": [],
   "source": [
    "def signExperiment(sampleFn, discrete=False, errorMedian=0):\n",
    "    sampleSizes = [30, 100, 500]\n",
    "    trueMedians = range(1,8)\n",
    "    numRepititions = 1000\n",
    "    etaNull = 4\n",
    "    totalNumTests = len(sampleSizes) * len(trueMedians) * numRepititions\n",
    "    results = np.zeros((totalNumTests, 3))\n",
    "    paramsets = itertools.product(sampleSizes, trueMedians, range(numRepititions))\n",
    "    for setNum, pSet in enumerate(paramsets):\n",
    "        if not setNum % 1000:\n",
    "            print(setNum)\n",
    "        n,eta, repetitionNum = pSet\n",
    "        sample = sampleFn(numSamples=n, offset = eta + errorMedian, discrete=discrete)\n",
    "        stat, pval = signTest(sample, etaNull)\n",
    "        results[setNum] = [n, eta, pval]\n",
    "    return results"
   ]
  },
  {
   "cell_type": "code",
   "execution_count": null,
   "metadata": {},
   "outputs": [],
   "source": [
    "sResultControl = signExperiment(sampleIndependentNormal)"
   ]
  },
  {
   "cell_type": "code",
   "execution_count": null,
   "metadata": {},
   "outputs": [],
   "source": [
    "sResultV1 = signExperiment(sampleIndependentNormal, errorMedian=1)"
   ]
  },
  {
   "cell_type": "code",
   "execution_count": null,
   "metadata": {},
   "outputs": [],
   "source": [
    "sResultsV2 = signExperiment(sampleIndependentNormal, discrete=True)"
   ]
  },
  {
   "cell_type": "code",
   "execution_count": null,
   "metadata": {},
   "outputs": [],
   "source": [
    "sResultsV3 = signExperiment(generateDependentSamplesLatentNormal)"
   ]
  },
  {
   "cell_type": "code",
   "execution_count": null,
   "metadata": {},
   "outputs": [],
   "source": [
    "dfwResultsControl = pd.DataFrame(wResultsControl,columns=[\"size\", \"median\", \"p-Val\"])\n",
    "dfwResultsControl[\"treatment\"] = \"Wilcoxon Signed Rank Test\""
   ]
  },
  {
   "cell_type": "code",
   "execution_count": null,
   "metadata": {},
   "outputs": [],
   "source": [
    "dfwResultsControl.head()"
   ]
  },
  {
   "cell_type": "code",
   "execution_count": null,
   "metadata": {},
   "outputs": [],
   "source": [
    "dfwResultsControl.to_csv(\"../results/wResultsControl.csv\")"
   ]
  },
  {
   "cell_type": "code",
   "execution_count": null,
   "metadata": {},
   "outputs": [],
   "source": [
    "dfwResultsViolation1 = pd.DataFrame(wResultsViolation1,columns=[\"size\", \"median\", \"p-Val\"])\n",
    "dfwResultsViolation1[\"treatment\"] = \"Wilcoxon Signed Rank Test\""
   ]
  },
  {
   "cell_type": "code",
   "execution_count": null,
   "metadata": {},
   "outputs": [],
   "source": [
    "dfwResultsViolation1.head()"
   ]
  },
  {
   "cell_type": "code",
   "execution_count": null,
   "metadata": {},
   "outputs": [],
   "source": [
    "dfwResultsViolation1.to_csv(\"../results/wResultsViolation1.csv\")"
   ]
  },
  {
   "cell_type": "code",
   "execution_count": null,
   "metadata": {},
   "outputs": [],
   "source": [
    "dfwResultsViolation2 = pd.DataFrame(wResultsViolation2,columns=[\"size\", \"median\", \"p-Val\"])\n",
    "dfwResultsViolation2[\"treatment\"] = \"Wilcoxon Signed Rank Test\""
   ]
  },
  {
   "cell_type": "code",
   "execution_count": null,
   "metadata": {},
   "outputs": [],
   "source": [
    "dfwResultsViolation2.head()"
   ]
  },
  {
   "cell_type": "code",
   "execution_count": null,
   "metadata": {},
   "outputs": [],
   "source": [
    "dfwResultsViolation2.to_csv(\"../results/wResultsViolation2.csv\")"
   ]
  },
  {
   "cell_type": "code",
   "execution_count": null,
   "metadata": {},
   "outputs": [],
   "source": [
    "dfwResultsViolation3 = pd.DataFrame(wResultsViolation3,columns=[\"size\", \"median\", \"p-Val\"])\n",
    "dfwResultsViolation3[\"treatment\"] = \"Wilcoxon Signed Rank Test\""
   ]
  },
  {
   "cell_type": "code",
   "execution_count": null,
   "metadata": {},
   "outputs": [],
   "source": [
    "dfwResultsViolation3.head()"
   ]
  },
  {
   "cell_type": "code",
   "execution_count": null,
   "metadata": {},
   "outputs": [],
   "source": [
    "dfwResultsViolation3.to_csv(\"../results/wResultsViolation3.csv\")"
   ]
  },
  {
   "cell_type": "code",
   "execution_count": null,
   "metadata": {},
   "outputs": [],
   "source": [
    "dfwResultsViolation4 = pd.DataFrame(wResultsViolation4,columns=[\"size\", \"median\", \"p-Val\"])\n",
    "dfwResultsViolation4[\"treatment\"] = \"Wilcoxon Signed Rank Test\""
   ]
  },
  {
   "cell_type": "code",
   "execution_count": null,
   "metadata": {},
   "outputs": [],
   "source": [
    "dfwResultsViolation4.to_csv(\"../results/wResultsViolation4.csv\")"
   ]
  },
  {
   "cell_type": "code",
   "execution_count": null,
   "metadata": {},
   "outputs": [],
   "source": [
    "dfsResultControl = pd.DataFrame(sResultControl,columns=[\"size\", \"median\", \"p-Val\"])\n",
    "dfsResultControl[\"treatment\"] = \"Sign Test\""
   ]
  },
  {
   "cell_type": "code",
   "execution_count": null,
   "metadata": {},
   "outputs": [],
   "source": [
    "dfsResultControl.head()"
   ]
  },
  {
   "cell_type": "code",
   "execution_count": null,
   "metadata": {},
   "outputs": [],
   "source": [
    "dfsResultControl.to_csv(\"../results/sResultControl.csv\")"
   ]
  },
  {
   "cell_type": "code",
   "execution_count": null,
   "metadata": {},
   "outputs": [],
   "source": [
    "dfsResultV1 = pd.DataFrame(sResultV1,columns=[\"size\", \"median\", \"p-Val\"])\n",
    "dfsResultV1[\"treatment\"] = \"Sign Test\""
   ]
  },
  {
   "cell_type": "code",
   "execution_count": null,
   "metadata": {},
   "outputs": [],
   "source": [
    "dfsResultV1.to_csv(\"../results/sResultsViolation1.csv\")"
   ]
  },
  {
   "cell_type": "code",
   "execution_count": null,
   "metadata": {},
   "outputs": [],
   "source": [
    "dfsResultV2 = pd.DataFrame(sResultsV2,columns=[\"size\", \"median\", \"p-Val\"])\n",
    "dfsResultV2[\"treatment\"] = \"Sign Test\""
   ]
  },
  {
   "cell_type": "code",
   "execution_count": null,
   "metadata": {},
   "outputs": [],
   "source": [
    "dfsResultV2.to_csv(\"../results/sResultsViolation2.csv\")"
   ]
  },
  {
   "cell_type": "code",
   "execution_count": null,
   "metadata": {},
   "outputs": [],
   "source": [
    "dfsResultV3 = pd.DataFrame(sResultsV3,columns=[\"size\", \"median\", \"p-Val\"])\n",
    "dfsResultV3[\"treatment\"] = \"Sign Test\""
   ]
  },
  {
   "cell_type": "code",
   "execution_count": null,
   "metadata": {},
   "outputs": [],
   "source": [
    "dfsResultV3.to_csv(\"../results/sResultsViolation3.csv\")"
   ]
  }
 ],
 "metadata": {
  "language_info": {
   "name": "python",
   "pygments_lexer": "ipython3"
  }
 },
 "nbformat": 4,
 "nbformat_minor": 2
}
