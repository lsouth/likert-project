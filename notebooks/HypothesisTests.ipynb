{
 "cells": [
  {
   "cell_type": "code",
   "execution_count": null,
   "metadata": {},
   "outputs": [],
   "source": [
    "import sys\n",
    "sys.path.append(\"..\")\n",
    "from samplingFunctions import *\n",
    "import scipy.stats as stats\n",
    "import matplotlib.pyplot as plt"
   ]
  },
  {
   "cell_type": "markdown",
   "metadata": {},
   "source": [
    "# Hypothesis 1\n",
    "$H_0: \\eta=4$\n",
    "\n",
    "$H_a: \\eta>4$"
   ]
  },
  {
   "cell_type": "markdown",
   "metadata": {},
   "source": [
    "### Wilcoxon Signed Rank Test\n",
    "Assumes $\\epsilon_i \\sim^{iid} \\mathcal{N}(0,1)$"
   ]
  },
  {
   "cell_type": "code",
   "execution_count": null,
   "metadata": {},
   "outputs": [],
   "source": [
    "def wilcoxonComparison(sampleFn):\n",
    "    pvalues = np.zeros((4,7))\n",
    "    sampleSizes = [10,25,50,100]\n",
    "    nullMedian = 4\n",
    "    for i, sampleSize in enumerate(sampleSizes):\n",
    "        for j,offset in enumerate([1,2,3,4,5,6,7]):\n",
    "            sample = sampleFn(numSamples=sampleSize, offset=offset)\n",
    "            stat, pval = stats.wilcoxon(sample - nullMedian, zero_method=\"pratt\",alternative=\"greater\")\n",
    "            pvalues[i,j] = pval\n",
    "    for i in range(pvalues.shape[0]):\n",
    "        plt.plot(range(1,8),pvalues[i,:], label=\"n={}\".format(sampleSizes[i]))\n",
    "    plt.hlines(0.05,1,7, color=\"red\", alpha=0.5)\n",
    "    plt.xlabel(\"offset\")\n",
    "    plt.ylabel(\"p\")\n",
    "    plt.legend()"
   ]
  },
  {
   "cell_type": "markdown",
   "metadata": {},
   "source": [
    "## Sign Test\n",
    "Assumes $\\epsilon \\sim^{ind}$ continuous\n",
    "\n",
    "median=0"
   ]
  },
  {
   "cell_type": "code",
   "execution_count": null,
   "metadata": {},
   "outputs": [],
   "source": [
    "def signTest(sample, etaNull):\n",
    "    alpha = 0.05\n",
    "    b = sum(sample > etaNull)\n",
    "    nStar = sum(sample != etaNull)\n",
    "    p = stats.binom.cdf(nStar - b, nStar, 0.5)\n",
    "    return b,p"
   ]
  },
  {
   "cell_type": "code",
   "execution_count": null,
   "metadata": {},
   "outputs": [],
   "source": [
    "def signTestComparison(sampleFn):\n",
    "    pvalues = np.zeros((4,7))\n",
    "    sampleSizes = [10,25,50,100]\n",
    "    nullMedian = 4\n",
    "    for i, sampleSize in enumerate(sampleSizes):\n",
    "        for j, offset in enumerate([1,2,3,4,5,6,7]):\n",
    "            sample = sampleFn(numSamples=sampleSize, offset=offset)\n",
    "            stat, pval = signTest(sample, nullMedian)\n",
    "            pvalues[i,j] = pval\n",
    "    for i in range(pvalues.shape[0]):\n",
    "        plt.plot(range(1,8),pvalues[i,:], label=\"n={}\".format(sampleSizes[i]))\n",
    "    plt.hlines(0.05,1,7, color=\"red\", alpha=0.5)\n",
    "    plt.xlabel(\"offset\")\n",
    "    plt.ylabel(\"p\")\n",
    "    plt.legend()"
   ]
  },
  {
   "cell_type": "markdown",
   "metadata": {},
   "source": [
    "Evaluate performance of test when following model assumptions"
   ]
  },
  {
   "cell_type": "code",
   "execution_count": null,
   "metadata": {},
   "outputs": [],
   "source": [
    "wilcoxonComparison(sampleIndependentNormal)"
   ]
  },
  {
   "cell_type": "code",
   "execution_count": null,
   "metadata": {},
   "outputs": [],
   "source": [
    "signTestComparison(sampleIndependentNormal)"
   ]
  },
  {
   "cell_type": "markdown",
   "metadata": {},
   "source": [
    "Evaluate performance when violating normality"
   ]
  },
  {
   "cell_type": "code",
   "execution_count": null,
   "metadata": {},
   "outputs": [],
   "source": [
    "wilcoxonComparison(sampleIndpendentContinuousSymmetric)"
   ]
  },
  {
   "cell_type": "code",
   "execution_count": null,
   "metadata": {},
   "outputs": [],
   "source": [
    "signTestComparison(sampleIndpendentContinuousSymmetric)"
   ]
  },
  {
   "cell_type": "markdown",
   "metadata": {},
   "source": [
    "Evaluate performance when violating symmentry"
   ]
  },
  {
   "cell_type": "code",
   "execution_count": null,
   "metadata": {},
   "outputs": [],
   "source": [
    "wilcoxonComparison(sampleIndependentContinuousAsymmetric)"
   ]
  },
  {
   "cell_type": "code",
   "execution_count": null,
   "metadata": {},
   "outputs": [],
   "source": [
    "signTestComparison(sampleIndependentContinuousAsymmetric)"
   ]
  },
  {
   "cell_type": "markdown",
   "metadata": {},
   "source": [
    "evaluate performance when independence is violated"
   ]
  },
  {
   "cell_type": "markdown",
   "metadata": {},
   "source": [
    "How do we visualize these tests? There is a lot of variability in the samples drawn from dependent data, so the setup above isn't as applicable."
   ]
  },
  {
   "cell_type": "code",
   "execution_count": null,
   "metadata": {},
   "outputs": [],
   "source": []
  }
 ],
 "metadata": {
  "language_info": {
   "name": "python",
   "pygments_lexer": "ipython3"
  }
 },
 "nbformat": 4,
 "nbformat_minor": 2
}
